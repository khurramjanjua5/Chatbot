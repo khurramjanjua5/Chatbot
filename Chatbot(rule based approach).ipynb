{
 "cells": [
  {
   "cell_type": "code",
   "execution_count": null,
   "id": "55ee5a10",
   "metadata": {},
   "outputs": [
    {
     "name": "stdout",
     "output_type": "stream",
     "text": [
      "Welcome to the ChatBot!\n",
      "You: fdd\n",
      "ChatBot: i'm fine. how about yourself?\n",
      "You: not good\n",
      "ChatBot: no, it isn't. he almost died when he was little.\n",
      "You: lol\n",
      "ChatBot: i'm fine. how about yourself?\n"
     ]
    }
   ],
   "source": [
    "import nltk\n",
    "from nltk.tokenize import word_tokenize\n",
    "from sklearn.feature_extraction.text import CountVectorizer\n",
    "from sklearn.metrics.pairwise import cosine_similarity\n",
    "\n",
    "import os\n",
    "\n",
    "def read_data(file_path):\n",
    "    # Get the full path of the file\n",
    "    full_path = os.path.join('simple-dialogs-for-chatbot', file_path)\n",
    "    with open(full_path, 'r', encoding='utf-8') as file:\n",
    "        data = file.readlines()\n",
    "    return [line.strip().split('\\t') for line in data]\n",
    "\n",
    "dialogs = read_data('dialogs.txt')\n",
    "\n",
    "# Tokenization and feature extraction\n",
    "corpus = [dialog[0] for dialog in dialogs]\n",
    "vectorizer = CountVectorizer(tokenizer=word_tokenize)\n",
    "X = vectorizer.fit_transform(corpus)\n",
    "\n",
    "# Train a model (basic rule-based approach)\n",
    "def get_response(query):\n",
    "    query_vec = vectorizer.transform([query])\n",
    "    similarity = cosine_similarity(query_vec, X)\n",
    "    max_sim_idx = similarity.argmax()\n",
    "    return dialogs[max_sim_idx][1]\n",
    "\n",
    "def chat():\n",
    "    print(\"Welcome to the ChatBot!\")\n",
    "    while True:\n",
    "        user_input = input(\"You: \")\n",
    "        if user_input.lower() == 'exit':\n",
    "            print(\"ChatBot: Goodbye!\")\n",
    "            break\n",
    "        response = get_response(user_input)\n",
    "        print(\"ChatBot:\", response)\n",
    "\n",
    "# Start the chat\n",
    "if __name__ == \"__main__\":\n",
    "    chat()\n"
   ]
  },
  {
   "cell_type": "code",
   "execution_count": null,
   "id": "2ebf9820",
   "metadata": {},
   "outputs": [],
   "source": []
  },
  {
   "cell_type": "code",
   "execution_count": null,
   "id": "99331972",
   "metadata": {},
   "outputs": [],
   "source": []
  },
  {
   "cell_type": "code",
   "execution_count": null,
   "id": "7b54df2d",
   "metadata": {},
   "outputs": [],
   "source": []
  },
  {
   "cell_type": "code",
   "execution_count": null,
   "id": "7156d04c",
   "metadata": {},
   "outputs": [],
   "source": []
  }
 ],
 "metadata": {
  "kernelspec": {
   "display_name": "Python 3 (ipykernel)",
   "language": "python",
   "name": "python3"
  },
  "language_info": {
   "codemirror_mode": {
    "name": "ipython",
    "version": 3
   },
   "file_extension": ".py",
   "mimetype": "text/x-python",
   "name": "python",
   "nbconvert_exporter": "python",
   "pygments_lexer": "ipython3",
   "version": "3.11.5"
  }
 },
 "nbformat": 4,
 "nbformat_minor": 5
}
